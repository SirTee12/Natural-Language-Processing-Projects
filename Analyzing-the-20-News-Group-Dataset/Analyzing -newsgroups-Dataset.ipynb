{
 "cells": [
  {
   "cell_type": "markdown",
   "id": "fe8c7389",
   "metadata": {},
   "source": [
    "### Analyzing the 20 News Group Dataset\n",
    "\n",
    "The project in this chapter is about the 20 newsgroups dataset. It's composed of text taken from newsgroup articles, as its name implies. It was originally collected by Ken Lang and now has been widely used for experiments in text applications of machine learning techniques, specifically NLP techniques.\n",
    "\n",
    "The data contains approximately 20,000 documents across 20 online newsgroups. \n",
    "A newsgroup is a place on the internet where people can ask and answer questions about a certain topic. The data is already cleaned to a certain degree and already split into training and testing sets. The cutoff point is at a certain date.\n",
    "\n",
    "The original data comes from http://qwone.com/~jason/20Newsgroups/, with 20 \n",
    "different topics listed, as follows:\n",
    "+ comp.graphics\n",
    "+ comp.os.ms-windows.misc\n",
    "+ comp.sys.ibm.pc.hardware\n",
    "+ comp.sys.mac.hardware\n",
    "+ comp.windows.x\n",
    "+ rec.autos\n",
    "+ rec.motorcycles\n",
    "+ rec.sport.baseball\n",
    "+ rec.sport.hockey\n",
    "+ sci.crypt\n",
    "+ sci.electronics\n",
    "+ sci.med\n",
    "+ sci.space\n",
    "+ misc.forsale\n",
    "+ talk.politics.misc\n",
    "+ talk.politics.guns\n",
    "+ talk.politics.mideast\n",
    "+ talk.religion.misc\n",
    "+ alt.atheism\n",
    "+ soc.religion.christian\n",
    "\n",
    "All of the documents in the dataset are in English. And we can easily deduce the topics from the newsgroups' names."
   ]
  },
  {
   "cell_type": "code",
   "execution_count": 2,
   "id": "0ff0d3e7",
   "metadata": {},
   "outputs": [],
   "source": [
    "import numpy as np\n",
    "import pandas as pd\n",
    "import matplotlib.pyplot as plt\n",
    "import seaborn as sns\n",
    "# import the 20 news group dataset\n",
    "from sklearn.datasets import fetch_20newsgroups"
   ]
  },
  {
   "cell_type": "code",
   "execution_count": 3,
   "id": "0917a868",
   "metadata": {},
   "outputs": [],
   "source": [
    "# dowload dataset with all default parameters\n",
    "groups = fetch_20newsgroups()"
   ]
  },
  {
   "cell_type": "markdown",
   "id": "3b6a53e8",
   "metadata": {},
   "source": [
    "### Explore The Dataset"
   ]
  },
  {
   "cell_type": "code",
   "execution_count": 4,
   "id": "60fa0275",
   "metadata": {},
   "outputs": [
    {
     "data": {
      "text/plain": [
       "dict_keys(['data', 'filenames', 'target_names', 'target', 'DESCR'])"
      ]
     },
     "execution_count": 4,
     "metadata": {},
     "output_type": "execute_result"
    }
   ],
   "source": [
    "# check the key values\n",
    "groups.keys()"
   ]
  },
  {
   "cell_type": "code",
   "execution_count": 5,
   "id": "3d942c90",
   "metadata": {},
   "outputs": [
    {
     "data": {
      "text/plain": [
       "['alt.atheism',\n",
       " 'comp.graphics',\n",
       " 'comp.os.ms-windows.misc',\n",
       " 'comp.sys.ibm.pc.hardware',\n",
       " 'comp.sys.mac.hardware',\n",
       " 'comp.windows.x',\n",
       " 'misc.forsale',\n",
       " 'rec.autos',\n",
       " 'rec.motorcycles',\n",
       " 'rec.sport.baseball',\n",
       " 'rec.sport.hockey',\n",
       " 'sci.crypt',\n",
       " 'sci.electronics',\n",
       " 'sci.med',\n",
       " 'sci.space',\n",
       " 'soc.religion.christian',\n",
       " 'talk.politics.guns',\n",
       " 'talk.politics.mideast',\n",
       " 'talk.politics.misc',\n",
       " 'talk.religion.misc']"
      ]
     },
     "execution_count": 5,
     "metadata": {},
     "output_type": "execute_result"
    }
   ],
   "source": [
    "# get the newsgroups names\n",
    "groups['target_names']"
   ]
  },
  {
   "cell_type": "markdown",
   "id": "a8d43a88",
   "metadata": {},
   "source": [
    "The target key corresponds to a newsgroup, but is encoded as an integer. Then, what are the distinct values for these integers?\n",
    "\n",
    "They range from 0 to 19, representing the 1st, 2nd, 3rd, …, 20th newsgroup topics in **groups['target_names']**"
   ]
  },
  {
   "cell_type": "code",
   "execution_count": 6,
   "id": "c19f716a",
   "metadata": {},
   "outputs": [
    {
     "data": {
      "text/plain": [
       "array([7, 4, 4, ..., 3, 1, 8])"
      ]
     },
     "execution_count": 6,
     "metadata": {},
     "output_type": "execute_result"
    }
   ],
   "source": [
    "groups.target"
   ]
  },
  {
   "cell_type": "code",
   "execution_count": 7,
   "id": "fc1ca20b",
   "metadata": {},
   "outputs": [
    {
     "data": {
      "text/plain": [
       "array([ 0,  1,  2,  3,  4,  5,  6,  7,  8,  9, 10, 11, 12, 13, 14, 15, 16,\n",
       "       17, 18, 19])"
      ]
     },
     "execution_count": 7,
     "metadata": {},
     "output_type": "execute_result"
    }
   ],
   "source": [
    "np.unique(groups.target)"
   ]
  },
  {
   "cell_type": "markdown",
   "id": "d9fed80e",
   "metadata": {},
   "source": [
    "### Distrbution of The Topics \n",
    "\n",
    "the distribution is approximately uniform so that's one less thing to \n",
    "worry about"
   ]
  },
  {
   "cell_type": "code",
   "execution_count": 11,
   "id": "6e1d8bfa",
   "metadata": {},
   "outputs": [
    {
     "data": {
      "image/png": "[encoded data removed]",
      "text/plain": [
       "<Figure size 500x500 with 1 Axes>"
      ]
     },
     "metadata": {},
     "output_type": "display_data"
    }
   ],
   "source": [
    "# plot the distribution of topics to get the frequency\n",
    "sns.displot(groups.target)\n",
    "plt.title('Distribution of newsgroup topics or classes')\n",
    "plt.xlabel('newsgroups classes')\n",
    "#plt.ylabel('')\n",
    "plt.show()"
   ]
  },
  {
   "cell_type": "code",
   "execution_count": null,
   "id": "6beb5279",
   "metadata": {},
   "outputs": [],
   "source": []
  }
 ],
 "metadata": {
  "kernelspec": {
   "display_name": "Python 3 (ipykernel)",
   "language": "python",
   "name": "python3"
  },
  "language_info": {
   "codemirror_mode": {
    "name": "ipython",
    "version": 3
   },
   "file_extension": ".py",
   "mimetype": "text/x-python",
   "name": "python",
   "nbconvert_exporter": "python",
   "pygments_lexer": "ipython3",
   "version": "3.10.9"
  }
 },
 "nbformat": 4,
 "nbformat_minor": 5
}
